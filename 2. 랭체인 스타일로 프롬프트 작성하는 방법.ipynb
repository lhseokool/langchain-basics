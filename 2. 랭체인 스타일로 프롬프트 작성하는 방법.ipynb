{
 "cells": [
  {
   "cell_type": "markdown",
   "metadata": {},
   "source": [
    "# 랭체인 스타일로 프롬프트 작성하는 방법\n",
    "\n",
    "이 노트북에서는 LangChain을 사용하여 프롬프트를 구조화하고 템플릿화하는 방법을 알아보겠습니다.\n",
    "\n",
    "## 1. LLM 설정\n",
    "\n",
    "먼저 기본적인 LLM을 설정합니다.\n"
   ]
  },
  {
   "cell_type": "code",
   "execution_count": 1,
   "metadata": {},
   "outputs": [],
   "source": [
    "from langchain_ollama import ChatOllama\n",
    "\n",
    "\n",
    "# Ollama를 이용한 로컬 LLM 설정\n",
    "llm = ChatOllama(model=\"gemma3:12b\")\n",
    "\n",
    "# 에러를 발생시키는 코드\n",
    "# llm.invoke(0)"
   ]
  },
  {
   "cell_type": "markdown",
   "metadata": {},
   "source": [
    "## 2. 기본 프롬프트 템플릿 사용\n",
    "\n",
    "PromptTemplate을 사용하여 변수가 포함된 템플릿을 만들 수 있습니다.\n"
   ]
  },
  {
   "cell_type": "code",
   "execution_count": 5,
   "metadata": {},
   "outputs": [
    {
     "name": "stdout",
     "output_type": "stream",
     "text": [
      "text='What is the capital of France?'\n"
     ]
    },
    {
     "data": {
      "text/plain": [
       "AIMessage(content='The capital of France is Paris.', additional_kwargs={}, response_metadata={'model': 'llama3.2:1b', 'created_at': '2025-02-02T13:19:03.64102Z', 'done': True, 'done_reason': 'stop', 'total_duration': 196228500, 'load_duration': 31930459, 'prompt_eval_count': 32, 'prompt_eval_duration': 73000000, 'eval_count': 8, 'eval_duration': 90000000, 'message': Message(role='assistant', content='', images=None, tool_calls=None)}, id='run-81d2645d-5d5d-4a12-b6f2-147b53f44cd6-0', usage_metadata={'input_tokens': 32, 'output_tokens': 8, 'total_tokens': 40})"
      ]
     },
     "execution_count": 5,
     "metadata": {},
     "output_type": "execute_result"
    }
   ],
   "source": [
    "from langchain_core.prompts import PromptTemplate\n",
    "from langchain_core.output_parsers import StrOutputParser\n",
    "\n",
    "# 변수가 포함된 템플릿 정의\n",
    "prompt_template = PromptTemplate(\n",
    "    template=\"What is the capital of {country}? Return the name of the city only\",\n",
    "    input_variables=[\"country\"],\n",
    ")\n",
    "\n",
    "# 아래처럼 해도 위와 같은 결과를 얻을 수 있습니다.\n",
    "prompt_template.from_template(\"What is the capital of {country}? Return the name of the city only\")\n",
    "\n",
    "# 템플릿에 변수 값을 주입\n",
    "prompt = prompt_template.invoke({\"country\": \"France\"})\n",
    "\n",
    "print(prompt)\n",
    "\n",
    "# LLM에 프롬프트 전달\n",
    "llm.invoke(prompt_template.invoke({\"country\": \"France\"}))"
   ]
  },
  {
   "cell_type": "markdown",
   "metadata": {},
   "source": [
    "## 3. 메시지 기반 프롬프트 작성\n",
    "\n",
    "시스템 메시지, 사용자 메시지, AI 메시지를 조합하여 대화 형식의 프롬프트를 만들 수 있습니다.\n",
    "\n",
    "\n",
    "  "
   ]
  },
  {
   "cell_type": "code",
   "execution_count": 12,
   "metadata": {},
   "outputs": [
    {
     "data": {
      "text/plain": [
       "AIMessage(content=\"If you're referring to a specific country, I'd be happy to try and help. Please provide the name of the country, and I'll do my best to tell you its capital.\", additional_kwargs={}, response_metadata={'model': 'llama3.2:1b', 'created_at': '2025-02-02T13:24:19.600569Z', 'done': True, 'done_reason': 'stop', 'total_duration': 931122208, 'load_duration': 31664958, 'prompt_eval_count': 87, 'prompt_eval_duration': 142000000, 'eval_count': 39, 'eval_duration': 755000000, 'message': Message(role='assistant', content='', images=None, tool_calls=None)}, id='run-c5b88f61-5ba2-49a9-bcfc-d33ae743d7ca-0', usage_metadata={'input_tokens': 87, 'output_tokens': 39, 'total_tokens': 126})"
      ]
     },
     "execution_count": 12,
     "metadata": {},
     "output_type": "execute_result"
    }
   ],
   "source": [
    "from langchain_core.messages import HumanMessage, SystemMessage, AIMessage\n",
    "\n",
    "# 대화 형식의 메시지 리스트 생성\n",
    "message_list = [\n",
    "    SystemMessage(content=\"You are a helpful assistant!\"),\n",
    "    HumanMessage(content=\"What is the capital of France?\"),\n",
    "    AIMessage(content=\"The capital of France is Paris.\"),\n",
    "    HumanMessage(content=\"What is the capital of Germany?\"),\n",
    "    AIMessage(content=\"The capital of Germany is Berlin.\"),\n",
    "    HumanMessage(content=\"What is the capital of {country}?\"),\n",
    "]\n",
    "\n",
    "llm.invoke(message_list)"
   ]
  },
  {
   "cell_type": "markdown",
   "metadata": {},
   "source": [
    "## 4. ChatPromptTemplate 사용\n",
    "\n",
    "ChatPromptTemplate을 사용하면 메시지 기반 프롬프트를 더 쉽게 만들 수 있습니다.\n"
   ]
  },
  {
   "cell_type": "code",
   "execution_count": 16,
   "metadata": {},
   "outputs": [
    {
     "name": "stdout",
     "output_type": "stream",
     "text": [
      "messages=[SystemMessage(content='You are a helpful assistant!', additional_kwargs={}, response_metadata={}), HumanMessage(content='What is the capital of France?', additional_kwargs={}, response_metadata={})]\n"
     ]
    }
   ],
   "source": [
    "from langchain_core.prompts import ChatPromptTemplate\n",
    "\n",
    "# 채팅 형식의 프롬프트 템플릿 생성\n",
    "chat_prompt_template = ChatPromptTemplate.from_messages([\n",
    "    (\"system\", \"You are a helpful assistant!\"),\n",
    "    (\"human\", \"What is the capital of {country}?\"),\n",
    "])\n",
    "\n",
    "\n",
    "# 템플릿에 변수 값 주입\n",
    "chat_prompt = chat_prompt_template.invoke({\"country\": \"France\"})\n",
    "\n",
    "print(chat_prompt)"
   ]
  },
  {
   "cell_type": "code",
   "execution_count": 17,
   "metadata": {},
   "outputs": [
    {
     "data": {
      "text/plain": [
       "[SystemMessage(content='You are a helpful assistant!', additional_kwargs={}, response_metadata={}),\n",
       " HumanMessage(content='What is the capital of France?', additional_kwargs={}, response_metadata={})]"
      ]
     },
     "execution_count": 17,
     "metadata": {},
     "output_type": "execute_result"
    }
   ],
   "source": [
    "# 생성된 메시지 확인\n",
    "chat_prompt.messages"
   ]
  },
  {
   "cell_type": "code",
   "execution_count": 18,
   "metadata": {},
   "outputs": [
    {
     "data": {
      "text/plain": [
       "AIMessage(content='The capital of France is Paris.', additional_kwargs={}, response_metadata={'model': 'llama3.2:1b', 'created_at': '2025-02-02T13:25:02.510889Z', 'done': True, 'done_reason': 'stop', 'total_duration': 198474709, 'load_duration': 30474500, 'prompt_eval_count': 38, 'prompt_eval_duration': 70000000, 'eval_count': 8, 'eval_duration': 96000000, 'message': Message(role='assistant', content='', images=None, tool_calls=None)}, id='run-6a603e21-ee48-436c-bd74-dfe1239f02f6-0', usage_metadata={'input_tokens': 38, 'output_tokens': 8, 'total_tokens': 46})"
      ]
     },
     "execution_count": 18,
     "metadata": {},
     "output_type": "execute_result"
    }
   ],
   "source": [
    "# LLM에 프롬프트 전달\n",
    "llm.invoke(chat_prompt)"
   ]
  }
 ],
 "metadata": {
  "kernelspec": {
   "display_name": "langchain-basics",
   "language": "python",
   "name": "python3"
  },
  "language_info": {
   "codemirror_mode": {
    "name": "ipython",
    "version": 3
   },
   "file_extension": ".py",
   "mimetype": "text/x-python",
   "name": "python",
   "nbconvert_exporter": "python",
   "pygments_lexer": "ipython3",
   "version": "3.13.1"
  }
 },
 "nbformat": 4,
 "nbformat_minor": 2
}

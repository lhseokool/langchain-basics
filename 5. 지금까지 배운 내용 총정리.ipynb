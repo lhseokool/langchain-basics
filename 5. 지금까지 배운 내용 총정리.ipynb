{
 "cells": [
  {
   "cell_type": "markdown",
   "metadata": {},
   "source": [
    "# 지금까지 배운 내용 총정리 (feat. 프롬프트 꿀팁 살짝)\n",
    "\n",
    "노트북에서는 지금까지 배운 LangChain의 주요 기능들을 활용하여 실용적인 예제를 만들어보겠습니다.\n",
    "또한, LLM을 더 효과적으로 사용하기 위한 프롬프트 작성 팁도 함께 알아보겠습니다.\n",
    "\n",
    "## 1. LLM 설정 (프롬프트 팁 1: Temperature 조절)\n",
    "\n",
    "Temperature를 0으로 설정하면 LLM이 더 일관된 답변을 제공합니다.\n"
   ]
  },
  {
   "cell_type": "code",
   "execution_count": 1,
   "metadata": {},
   "outputs": [],
   "source": [
    "from langchain_ollama import ChatOllama\n",
    "\n",
    "# Temperature를 0으로 설정하여 일관된 답변 유도\n",
    "llm = ChatOllama(\n",
    "    model=\"gemma3:12b\",\n",
    "    temperature=0,\n",
    "    # other params...\n",
    ")"
   ]
  },
  {
   "cell_type": "markdown",
   "metadata": {},
   "source": [
    "## 2. 음식 추천 체인 구성 (프롬프트 팁 2: 명확한 출력 형식 지정)\n",
    "\n",
    "프롬프트에서 원하는 출력 형식을 명확하게 지정하면 더 정확한 응답을 얻을 수 있습니다.\n",
    "\n",
    "   "
   ]
  },
  {
   "cell_type": "code",
   "execution_count": 2,
   "metadata": {},
   "outputs": [],
   "source": [
    "# 음식 이름 찾기\n",
    "\n",
    "from langchain_core.output_parsers import StrOutputParser\n",
    "from langchain_core.prompts import PromptTemplate\n",
    "\n",
    "# 음식 이름만 반환하도록 명확하게 지시\n",
    "food_prompt = PromptTemplate(\n",
    "    template='''what is one of the most popular food in {country}? \n",
    "Please return the name of the food only''',\n",
    "    input_variables=['country']\n",
    ")\n",
    "\n",
    "# 음식 추천 체인 구성\n",
    "food_chain = food_prompt | llm | StrOutputParser()"
   ]
  },
  {
   "cell_type": "code",
   "execution_count": 4,
   "metadata": {},
   "outputs": [
    {
     "data": {
      "text/plain": [
       "'Kimchi'"
      ]
     },
     "execution_count": 4,
     "metadata": {},
     "output_type": "execute_result"
    }
   ],
   "source": [
    "# 음식 추천 체인 실행\n",
    "food_chain.invoke({'country': 'South Korea'})"
   ]
  },
  {
   "cell_type": "markdown",
   "metadata": {},
   "source": [
    "## 3. 레시피 생성 체인 구성 (프롬프트 팁 3: 시스템 메시지 활용)\n",
    "\n",
    "시스템 메시지를 통해 LLM의 역할과 응답 형식을 명확하게 정의할 수 있습니다.\n",
    "  "
   ]
  },
  {
   "cell_type": "code",
   "execution_count": 5,
   "metadata": {},
   "outputs": [],
   "source": [
    "from langchain_core.prompts import ChatPromptTemplate\n",
    "\n",
    "# 시스템 메시지를 통해 레시피 형식 지정\n",
    "recipe_prompt = ChatPromptTemplate.from_messages([\n",
    "    ('system', '''Provide the recipe of the food that the user wants. \n",
    "Please return the recipe only as a numbered list without any explanation'''),\n",
    "    ('human', 'Can you give me the recipe for making {food}?')\n",
    "])\n",
    "\n",
    "# 레시피 생성 체인 구성\n",
    "recipe_chain = recipe_prompt | llm | StrOutputParser()"
   ]
  },
  {
   "cell_type": "code",
   "execution_count": 7,
   "metadata": {},
   "outputs": [
    {
     "name": "stdout",
     "output_type": "stream",
     "text": [
      "1. 1 lb beef sirloin, thinly sliced\n",
      "2. 1 tbsp soy sauce\n",
      "3. 1 tbsp sesame oil\n",
      "4. 1 tbsp sugar\n",
      "5. 1/2 tsp black pepper\n",
      "6. 1 cup short-grain rice\n",
      "7. 1 cup spinach\n",
      "8. 1 tbsp soy sauce\n",
      "9. 1 tsp sesame oil\n",
      "10. 1/2 cup carrots, julienned\n",
      "11. 1 tbsp vegetable oil\n",
      "12. 1/2 cup shiitake mushrooms, sliced\n",
      "13. 1 tbsp soy sauce\n",
      "14. 1 tbsp sugar\n",
      "15. 1/2 cup bean sprouts\n",
      "16. 1/4 cup water\n",
      "17. 1/2 tsp salt\n",
      "18. 1/4 cup zucchini, julienned\n",
      "19. 1 tbsp vegetable oil\n",
      "20. 1 tbsp soy sauce\n",
      "21. 1 tbsp sugar\n",
      "22. 1/4 cup kimchi, chopped\n",
      "23. 1 tbsp gochujang (Korean chili paste)\n",
      "24. 1 tbsp sesame oil\n",
      "25. 1 tsp rice vinegar\n",
      "26. 1 egg\n",
      "27. Sesame seeds, for garnish\n",
      "28. Gochujang (Korean chili paste), for serving (optional)\n"
     ]
    }
   ],
   "source": [
    "# 레시피 생성 체인 실행\n",
    "print(recipe_chain.invoke({'food': 'bibimbap'}))"
   ]
  },
  {
   "cell_type": "markdown",
   "metadata": {},
   "source": [
    "## 4. 최종 체인 구성 (프롬프트 팁 4: 체인 연결을 통한 복잡한 작업 처리)\n",
    "\n",
    "여러 체인을 연결하여 복잡한 작업을 단계별로 처리할 수 있습니다.\n"
   ]
  },
  {
   "cell_type": "code",
   "execution_count": 8,
   "metadata": {},
   "outputs": [],
   "source": [
    "# 음식 추천과 레시피 생성을 연결한 최종 체인 구성\n",
    "final_chain = {'food': food_chain} | recipe_chain"
   ]
  },
  {
   "cell_type": "code",
   "execution_count": 9,
   "metadata": {},
   "outputs": [
    {
     "data": {
      "text/plain": [
       "'1. 1 cup all-purpose flour\\n2. 2 tablespoons sugar\\n3. 1/4 teaspoon salt\\n4. 1 1/4 cups milk\\n5. 2 large eggs\\n6. 2 tablespoons melted butter, plus more for greasing\\n7. 1 teaspoon vanilla extract\\n'"
      ]
     },
     "execution_count": 9,
     "metadata": {},
     "output_type": "execute_result"
    }
   ],
   "source": [
    "# 국가 입력으로 대표 음식을 찾고, 해당 음식의 레시피까지 자동으로 생성\n",
    "final_chain.invoke({'country': 'France'})"
   ]
  },
  {
   "cell_type": "code",
   "execution_count": null,
   "metadata": {},
   "outputs": [],
   "source": []
  }
 ],
 "metadata": {
  "kernelspec": {
   "display_name": "langchain-basics",
   "language": "python",
   "name": "python3"
  },
  "language_info": {
   "codemirror_mode": {
    "name": "ipython",
    "version": 3
   },
   "file_extension": ".py",
   "mimetype": "text/x-python",
   "name": "python",
   "nbconvert_exporter": "python",
   "pygments_lexer": "ipython3",
   "version": "3.10.14"
  }
 },
 "nbformat": 4,
 "nbformat_minor": 2
}

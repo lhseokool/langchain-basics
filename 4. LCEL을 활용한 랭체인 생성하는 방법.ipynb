{
 "cells": [
  {
   "cell_type": "markdown",
   "metadata": {},
   "source": [
    "# LCEL을 활용한 랭체인 생성하는 방법\n",
    "\n",
    "이 노트북에서는 LangChain Expression Language (LCEL)를 사용하여 여러 컴포넌트를 연결하고 복잡한 체인을 구성하는 방법을 알아보겠습니다.\n",
    "\n",
    "## 1. LLM 설정\n",
    "\n",
    "먼저 기본적인 LLM을 설정합니다.\n"
   ]
  },
  {
   "cell_type": "code",
   "execution_count": 1,
   "metadata": {},
   "outputs": [],
   "source": [
    "from langchain_ollama import ChatOllama\n",
    "\n",
    "\n",
    "# Ollama를 이용한 로컬 LLM 설정\n",
    "llm = ChatOllama(model=\"gemma3:12b\")\n",
    "\n",
    "# llm.invoke(0)"
   ]
  },
  {
   "cell_type": "markdown",
   "metadata": {},
   "source": [
    "\n",
    "## 2. 문자열 출력 파서 사용\n",
    "\n",
    "StrOutputParser를 사용하여 LLM의 출력을 단순 문자열로 변환할 수 있습니다.\n"
   ]
  },
  {
   "cell_type": "code",
   "execution_count": 2,
   "metadata": {},
   "outputs": [
    {
     "name": "stdout",
     "output_type": "stream",
     "text": [
      "text='What is the capital of France? Return the name of the city only'\n",
      "content='Paris' additional_kwargs={} response_metadata={'model': 'gemma3:12b', 'created_at': '2025-03-28T11:07:44.392929Z', 'done': True, 'done_reason': 'stop', 'total_duration': 22736604208, 'load_duration': 13910955000, 'prompt_eval_count': 23, 'prompt_eval_duration': 8759364458, 'eval_count': 2, 'eval_duration': 58166417, 'message': Message(role='assistant', content='', images=None, tool_calls=None)} id='run-86739b05-8baf-4f2d-bc25-54ae7375f010-0' usage_metadata={'input_tokens': 23, 'output_tokens': 2, 'total_tokens': 25}\n"
     ]
    }
   ],
   "source": [
    "from langchain_core.prompts import PromptTemplate\n",
    "from langchain_core.output_parsers import StrOutputParser\n",
    "\n",
    "# 명시적인 지시사항이 포함된 프롬프트 템플릿 정의\n",
    "prompt_template = PromptTemplate(\n",
    "    template=\"What is the capital of {country}? Return the name of the city only\",\n",
    "    input_variables=[\"country\"],\n",
    ")\n",
    "# 템플릿에 변수 값을 주입\n",
    "prompt = prompt_template.invoke({\"country\": \"France\"})\n",
    "\n",
    "print(prompt)\n",
    "\n",
    "# LLM에 프롬프트 전달\n",
    "ai_message = llm.invoke(prompt_template.invoke({\"country\": \"France\"}))\n",
    "\n",
    "print(ai_message)\n",
    "\n",
    "# 문자열 출력 파서 설정\n",
    "output_parser = StrOutputParser()\n",
    "\n",
    "answer = output_parser.invoke(llm.invoke(prompt_template.invoke({\"country\": \"France\"})))"
   ]
  },
  {
   "cell_type": "markdown",
   "metadata": {},
   "source": [
    "## 3. LCEL을 사용한 간단한 체인 구성\n",
    "\n",
    "파이프 연산자(|)를 사용하여 컴포넌트들을 연결합니다.\n"
   ]
  },
  {
   "cell_type": "code",
   "execution_count": 3,
   "metadata": {},
   "outputs": [],
   "source": [
    "# 프롬프트 템플릿 -> LLM -> 출력 파서를 연결하는 체인 생성\n",
    "capital_chain = prompt_template | llm | output_parser"
   ]
  },
  {
   "cell_type": "code",
   "execution_count": 4,
   "metadata": {},
   "outputs": [
    {
     "data": {
      "text/plain": [
       "'Paris'"
      ]
     },
     "execution_count": 4,
     "metadata": {},
     "output_type": "execute_result"
    }
   ],
   "source": [
    "# 생성된 체인 실행\n",
    "capital_chain.invoke({\"country\": \"France\"})"
   ]
  },
  {
   "cell_type": "markdown",
   "metadata": {},
   "source": [
    "\n",
    "## 4. 복잡한 체인 구성\n",
    "\n",
    "여러 단계의 추론이 필요한 더 복잡한 체인을 구성해봅니다.\n"
   ]
  },
  {
   "cell_type": "code",
   "execution_count": 5,
   "metadata": {},
   "outputs": [],
   "source": [
    "# 국가를 추측하는 프롬프트 템플릿 정의\n",
    "country_prompt = PromptTemplate(\n",
    "    template=\"\"\"Guess the name of the country based on the following information:\n",
    "    {information}\n",
    "    Return the name of the country only\n",
    "    \"\"\",\n",
    "    input_variables=[\"information\", \"continent\"],\n",
    ")\n",
    "\n",
    "# 국가 추측 체인 생성\n",
    "country_chain = country_prompt | llm | output_parser\n",
    "# country_chain.invoke({\"information\": \"This country is very famous for its wine in Europe\"})"
   ]
  },
  {
   "cell_type": "code",
   "execution_count": 6,
   "metadata": {},
   "outputs": [
    {
     "data": {
      "text/plain": [
       "'Paris'"
      ]
     },
     "execution_count": 6,
     "metadata": {},
     "output_type": "execute_result"
    }
   ],
   "source": [
    "final_chain = {\"country\": country_chain} | capital_chain\n",
    "\n",
    "final_chain.invoke({\"information\": \"This country is very famous for its wine in Europe\"})"
   ]
  },
  {
   "cell_type": "markdown",
   "metadata": {},
   "source": [
    "RunnablePassthrough를 사용한 복합 체인 구성"
   ]
  },
  {
   "cell_type": "code",
   "execution_count": 8,
   "metadata": {},
   "outputs": [],
   "source": [
    "from langchain_core.runnables import RunnablePassthrough\n",
    "\n",
    "# RunnablePassthrough를 사용하여 입력을 다음 단계로 전달하는 복합 체인 구성\n",
    "final_chain = (\n",
    "    {\"information\": RunnablePassthrough()}\n",
    "    | {\"country\": country_chain}\n",
    "    | capital_chain\n",
    ")"
   ]
  },
  {
   "cell_type": "code",
   "execution_count": 9,
   "metadata": {},
   "outputs": [
    {
     "data": {
      "text/plain": [
       "'Paris'"
      ]
     },
     "execution_count": 9,
     "metadata": {},
     "output_type": "execute_result"
    }
   ],
   "source": [
    "# 복합 체인 실행\n",
    "# 정보와 대륙을 입력하면, 해당 국가를 추측하고 그 국가의 수도를 반환\n",
    "final_chain.invoke(\"This country is very famous for its wine in Europe\")"
   ]
  },
  {
   "cell_type": "markdown",
   "metadata": {},
   "source": [
    "복합 체인 구성 예제"
   ]
  },
  {
   "cell_type": "code",
   "execution_count": 15,
   "metadata": {},
   "outputs": [],
   "source": [
    "# 국가를 추측하는 프롬프트 템플릿 정의\n",
    "country_prompt = PromptTemplate(\n",
    "    template=\"\"\"Guess the name of the country in the {continent} based on the following information:\n",
    "    {information}\n",
    "    Return the name of the country only\n",
    "    \"\"\",\n",
    "    input_variables=[\"information\", \"continent\"],\n",
    ")\n",
    "\n",
    "# 국가 추측 체인 생성\n",
    "country_chain = country_prompt | llm | output_parser\n",
    "# country_chain.invoke({\"information\": \"This country is very famous for its wine in Europe\"})"
   ]
  },
  {
   "cell_type": "code",
   "execution_count": 16,
   "metadata": {},
   "outputs": [],
   "source": [
    "from langchain_core.runnables import RunnablePassthrough\n",
    "\n",
    "# RunnablePassthrough를 사용하여 입력을 다음 단계로 전달하는 복합 체인 구성\n",
    "final_chain = {\"information\": RunnablePassthrough(), \"continent\": RunnablePassthrough()} | {\"country\": country_chain} | capital_chain"
   ]
  },
  {
   "cell_type": "code",
   "execution_count": null,
   "metadata": {},
   "outputs": [],
   "source": [
    "# 복합 체인 실행\n",
    "# 정보와 대륙을 입력하면, 해당 국가를 추측하고 그 국가의 수도를 반환\n",
    "final_chain.invoke( {\"information\": \"This country is very famous for its wine in Europe\", \"continent\": \"Europe\"})"
   ]
  }
 ],
 "metadata": {
  "kernelspec": {
   "display_name": "langchain-basics",
   "language": "python",
   "name": "python3"
  },
  "language_info": {
   "codemirror_mode": {
    "name": "ipython",
    "version": 3
   },
   "file_extension": ".py",
   "mimetype": "text/x-python",
   "name": "python",
   "nbconvert_exporter": "python",
   "pygments_lexer": "ipython3",
   "version": "3.13.1"
  }
 },
 "nbformat": 4,
 "nbformat_minor": 2
}

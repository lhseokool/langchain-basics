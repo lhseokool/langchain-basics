{
 "cells": [
  {
   "cell_type": "markdown",
   "metadata": {},
   "source": [
    "# 답변의 형식을 컨트롤하는 방법\n",
    "\n",
    "이 노트북에서는 LangChain을 사용하여 LLM의 출력 형식을 제어하는 다양한 방법을 알아보겠습니다.\n",
    "\n",
    "## 1. LLM 설정\n",
    "\n",
    "먼저 기본적인 LLM을 설정합니다.\n"
   ]
  },
  {
   "cell_type": "code",
   "execution_count": 1,
   "metadata": {},
   "outputs": [],
   "source": [
    "from langchain_ollama import ChatOllama\n",
    "\n",
    "# Ollama를 이용한 로컬 LLM 설정\n",
    "\n",
    "llm = ChatOllama(model=\"gemma3:12b\")"
   ]
  },
  {
   "cell_type": "markdown",
   "metadata": {},
   "source": [
    "\n",
    "## 2. 문자열 출력 파서 사용\n",
    "\n",
    "StrOutputParser를 사용하여 LLM의 출력을 단순 문자열로 변환할 수 있습니다.\n"
   ]
  },
  {
   "cell_type": "code",
   "execution_count": 8,
   "metadata": {},
   "outputs": [
    {
     "name": "stdout",
     "output_type": "stream",
     "text": [
      "text='What is the capital of France? Return the name of the city only'\n",
      "content='Paris.' additional_kwargs={} response_metadata={'model': 'llama3.2:1b', 'created_at': '2025-02-02T14:22:47.349943Z', 'done': True, 'done_reason': 'stop', 'total_duration': 183572167, 'load_duration': 31401625, 'prompt_eval_count': 39, 'prompt_eval_duration': 108000000, 'eval_count': 3, 'eval_duration': 43000000, 'message': Message(role='assistant', content='', images=None, tool_calls=None)} id='run-f9bd3685-abd4-4ed3-bdca-f156e680d41b-0' usage_metadata={'input_tokens': 39, 'output_tokens': 3, 'total_tokens': 42}\n"
     ]
    }
   ],
   "source": [
    "from langchain_core.prompts import PromptTemplate\n",
    "from langchain_core.output_parsers import StrOutputParser\n",
    "\n",
    "# 명시적인 지시사항이 포함된 프롬프트 템플릿 정의\n",
    "prompt_template = PromptTemplate(\n",
    "    template=\"What is the capital of {country}? Return the name of the city only\",\n",
    "    input_variables=[\"country\"],\n",
    ")\n",
    "# 템플릿에 변수 값을 주입\n",
    "prompt = prompt_template.invoke({\"country\": \"France\"})\n",
    "\n",
    "print(prompt)\n",
    "\n",
    "# LLM에 프롬프트 전달\n",
    "ai_message = llm.invoke(prompt_template.invoke({\"country\": \"France\"}))\n",
    "\n",
    "print(ai_message)\n",
    "\n",
    "# 문자열 출력 파서를 사용하여 응답을 단순 문자열로 변환\n",
    "output_parser = StrOutputParser()\n",
    "\n",
    "answer = output_parser.invoke(llm.invoke(prompt_template.invoke({\"country\": \"France\"})))"
   ]
  },
  {
   "cell_type": "markdown",
   "metadata": {},
   "source": [
    "## 3. 응답 타입 확인\n",
    "\n",
    "LLM의 응답이 어떤 형식으로 반환되는지 확인해봅니다.\n"
   ]
  },
  {
   "cell_type": "code",
   "execution_count": 15,
   "metadata": {},
   "outputs": [
    {
     "data": {
      "text/plain": [
       "str"
      ]
     },
     "execution_count": 15,
     "metadata": {},
     "output_type": "execute_result"
    }
   ],
   "source": [
    "# AI 메시지의 content 속성이 문자열 타입임을 확인\n",
    "\n",
    "type(ai_message.content)"
   ]
  },
  {
   "cell_type": "code",
   "execution_count": 10,
   "metadata": {},
   "outputs": [
    {
     "data": {
      "text/plain": [
       "'Paris'"
      ]
     },
     "execution_count": 10,
     "metadata": {},
     "output_type": "execute_result"
    }
   ],
   "source": [
    "# 파싱된 응답 확인\n",
    "answer"
   ]
  },
  {
   "cell_type": "markdown",
   "metadata": {},
   "source": [
    "## 4. 구조화된 출력 사용\n",
    "\n",
    "Pydantic 모델을 사용하여 LLM의 출력을 구조화된 형식으로 받을 수 있습니다.\n"
   ]
  },
  {
   "cell_type": "code",
   "execution_count": 19,
   "metadata": {},
   "outputs": [],
   "source": [
    "from pydantic import BaseModel, Field\n",
    "\n",
    "# 국가 정보를 담을 Pydantic 모델 정의\n",
    "class CountryDetail(BaseModel):\n",
    "    capital: str = Field(description=\"The capital of the country\")\n",
    "    population: int = Field(description=\"The population of the country\")\n",
    "    language: str = Field(description=\"The language of the country\")\n",
    "    currency: str = Field(description=\"The currency of the country\")\n",
    "\n",
    "\n",
    "# LLM에 구조화된 출력 형식 지정\n",
    "structued_llm = llm.with_structured_output(CountryDetail)"
   ]
  },
  {
   "cell_type": "code",
   "execution_count": 20,
   "metadata": {},
   "outputs": [],
   "source": [
    "from langchain_core.output_parsers import JsonOutputParser\n",
    "\n",
    "# JSON 형식으로 응답을 요청하는 프롬프트 템플릿\n",
    "country_detail_prompt = PromptTemplate(\n",
    "    template=\"\"\"Give following information about {country}:\n",
    "    - Capital\n",
    "    - Population\n",
    "    - Language\n",
    "    - Currency\n",
    "\n",
    "    return it in JSON format. and return the JSON dictionry only \n",
    "    \"\"\",\n",
    "    input_variables=[\"country\"],\n",
    ")\n",
    "\n",
    "country_detail_prompt.invoke({\"country\": \"France\"})\n",
    "\n",
    "\n",
    "# output_parser = JsonOutputParser()\n",
    "# 구조화된 LLM으로 응답 받기\n",
    "json_ai_message = structued_llm.invoke(country_detail_prompt.invoke({\"country\": \"France\"}))\n",
    "# output_parser.invoke(json_ai_message)"
   ]
  },
  {
   "cell_type": "code",
   "execution_count": 21,
   "metadata": {},
   "outputs": [
    {
     "data": {
      "text/plain": [
       "CountryDetail(capital='Paris', population=65275746, language='French', currency='Euro')"
      ]
     },
     "execution_count": 21,
     "metadata": {},
     "output_type": "execute_result"
    }
   ],
   "source": [
    "# 구조화된 응답 확인\n",
    "(json_ai_message)"
   ]
  },
  {
   "cell_type": "code",
   "execution_count": 25,
   "metadata": {},
   "outputs": [
    {
     "data": {
      "text/plain": [
       "'Paris'"
      ]
     },
     "execution_count": 25,
     "metadata": {},
     "output_type": "execute_result"
    }
   ],
   "source": [
    "# Pydantic 모델의 특정 필드 접근\n",
    "json_ai_message.model_dump()[\"capital\"]"
   ]
  }
 ],
 "metadata": {
  "kernelspec": {
   "display_name": "langchain-basics",
   "language": "python",
   "name": "python3"
  },
  "language_info": {
   "codemirror_mode": {
    "name": "ipython",
    "version": 3
   },
   "file_extension": ".py",
   "mimetype": "text/x-python",
   "name": "python",
   "nbconvert_exporter": "python",
   "pygments_lexer": "ipython3",
   "version": "3.13.1"
  }
 },
 "nbformat": 4,
 "nbformat_minor": 2
}
